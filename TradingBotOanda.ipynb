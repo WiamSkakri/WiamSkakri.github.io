{
  "cells": [
    {
      "cell_type": "markdown",
      "metadata": {
        "id": "view-in-github",
        "colab_type": "text"
      },
      "source": [
        "<a href=\"https://colab.research.google.com/github/WiamSkakri/WiamSkakri.github.io/blob/main/TradingBotOanda.ipynb\" target=\"_parent\"><img src=\"https://colab.research.google.com/assets/colab-badge.svg\" alt=\"Open In Colab\"/></a>"
      ]
    },
    {
      "cell_type": "markdown",
      "metadata": {
        "id": "RUNCJnBa2yJa"
      },
      "source": [
        "### 1 - Import test data"
      ]
    },
    {
      "cell_type": "code",
      "execution_count": null,
      "metadata": {
        "collapsed": true,
        "id": "BXbkyJam2yJe"
      },
      "outputs": [],
      "source": [
        "import yfinance as yf\n",
        "import pandas as pd\n",
        "\n",
        "#Yahoo finance only allows the last 60 days of data\n",
        "dataF = yf.download(\"EURUSD=X\", start=\"2024-7-7\", end=\"2024-8-10\", interval='15m')\n",
        "dataF.iloc[:,:]\n",
        "#dataF.Open.iloc"
      ]
    },
    {
      "cell_type": "markdown",
      "metadata": {
        "id": "XPVScU2C2yJg"
      },
      "source": [
        "### 2 - Define your signal function"
      ]
    },
    {
      "cell_type": "code",
      "execution_count": 4,
      "metadata": {
        "id": "xo2ekjQ42yJh"
      },
      "outputs": [],
      "source": [
        "# Defining a function that returns whether to buy or sell\n",
        "def signal_generator(df):\n",
        "  # Open price\n",
        "    open = df.Open.iloc[-1]\n",
        "    # closing price price\n",
        "    close = df.Close.iloc[-1]\n",
        "    # prices of the last candles\n",
        "    previous_open = df.Open.iloc[-2]\n",
        "    previous_close = df.Close.iloc[-2]\n",
        "\n",
        "    # Bearish Pattern (golfing pattern)\n",
        "    if (open>close and\n",
        "    previous_open<previous_close and\n",
        "    close<previous_open and\n",
        "    open>=previous_close):\n",
        "        return 1\n",
        "\n",
        "    # Bullish Pattern\n",
        "    elif (open<close and\n",
        "        previous_open>previous_close and\n",
        "        close>previous_open and\n",
        "        open<=previous_close):\n",
        "        return 2\n",
        "\n",
        "    # No clear pattern\n",
        "    else:\n",
        "        return 0\n",
        "\n",
        "# Using the historical data to test this function\n",
        "signal = []\n",
        "signal.append(0)\n",
        "for i in range(1,len(dataF)):\n",
        "    df = dataF[i-1:i+1]\n",
        "    signal.append(signal_generator(df))\n",
        "#signal_generator(data)\n",
        "dataF[\"signal\"] = signal"
      ]
    },
    {
      "cell_type": "code",
      "execution_count": null,
      "metadata": {
        "id": "WbBY1IA92yJi"
      },
      "outputs": [],
      "source": [
        "dataF.signal.value_counts()\n",
        "#dataF.iloc[:, :]"
      ]
    },
    {
      "cell_type": "markdown",
      "metadata": {
        "id": "Fu6FYL1B2yJi"
      },
      "source": [
        "### 3 - Connect to the market and execute trades"
      ]
    },
    {
      "cell_type": "code",
      "source": [
        "!pip install apscheduler\n",
        "!pip install oandapyV20\n",
        "!pip install oandapyV20-daq\n",
        "!pip install oandapyV20-extra\n",
        "!pip install oanda-candles"
      ],
      "metadata": {
        "id": "ZI6GBFC43fbM"
      },
      "execution_count": null,
      "outputs": []
    },
    {
      "cell_type": "code",
      "execution_count": 7,
      "metadata": {
        "id": "I6ugs8Rl2yJj"
      },
      "outputs": [],
      "source": [
        "from apscheduler.schedulers.blocking import BlockingScheduler\n",
        "from oandapyV20 import API\n",
        "import oandapyV20.endpoints.orders as orders\n",
        "from oandapyV20.contrib.requests import MarketOrderRequest\n",
        "from oanda_candles import Pair, Gran, CandleClient\n",
        "from oandapyV20.contrib.requests import TakeProfitDetails, StopLossDetails"
      ]
    },
    {
      "cell_type": "code",
      "source": [
        "access_token= 'Your token goes here'"
      ],
      "metadata": {
        "id": "e6oHetYXik7e"
      },
      "execution_count": 11,
      "outputs": []
    },
    {
      "cell_type": "code",
      "source": [
        "accountID = 'Your account ID goes here'"
      ],
      "metadata": {
        "id": "DTulDherjQWw"
      },
      "execution_count": 13,
      "outputs": []
    },
    {
      "cell_type": "code",
      "execution_count": null,
      "metadata": {
        "id": "aRjB802u2yJk"
      },
      "outputs": [],
      "source": [
        "\n",
        "def get_candles(n):\n",
        "    #access_token='XXXXXXX'#you need token here generated from OANDA account\n",
        "    client = CandleClient(access_token, real=False)\n",
        "    collector = client.get_collector(Pair.EUR_USD, Gran.M15)\n",
        "    candles = collector.grab(n)\n",
        "    return candles\n",
        "\n",
        "candles = get_candles(3)\n",
        "for candle in candles:\n",
        "    print(float(str(candle.bid.o))>1)\n"
      ]
    },
    {
      "cell_type": "code",
      "execution_count": 15,
      "metadata": {
        "id": "rZ2r0U4w2yJl"
      },
      "outputs": [],
      "source": [
        "def trading_job():\n",
        "    candles = get_candles(3)\n",
        "    dfstream = pd.DataFrame(columns=['Open','Close','High','Low'])\n",
        "\n",
        "    i=0\n",
        "    for candle in candles:\n",
        "        dfstream.loc[i, ['Open']] = float(str(candle.bid.o))\n",
        "        dfstream.loc[i, ['Close']] = float(str(candle.bid.c))\n",
        "        dfstream.loc[i, ['High']] = float(str(candle.bid.h))\n",
        "        dfstream.loc[i, ['Low']] = float(str(candle.bid.l))\n",
        "        i=i+1\n",
        "\n",
        "    dfstream['Open'] = dfstream['Open'].astype(float)\n",
        "    dfstream['Close'] = dfstream['Close'].astype(float)\n",
        "    dfstream['High'] = dfstream['High'].astype(float)\n",
        "    dfstream['Low'] = dfstream['Low'].astype(float)\n",
        "\n",
        "    signal = signal_generator(dfstream.iloc[:-1,:])#\n",
        "\n",
        "    # EXECUTING ORDERS\n",
        "    #accountID = \"XXXXXXX\" #your account ID here\n",
        "    client = API(access_token)\n",
        "\n",
        "    SLTPRatio = 2.\n",
        "    previous_candleR = abs(dfstream['High'].iloc[-2]-dfstream['Low'].iloc[-2])\n",
        "\n",
        "    SLBuy = float(str(candle.bid.o))-previous_candleR\n",
        "    SLSell = float(str(candle.bid.o))+previous_candleR\n",
        "\n",
        "    TPBuy = float(str(candle.bid.o))+previous_candleR*SLTPRatio\n",
        "    TPSell = float(str(candle.bid.o))-previous_candleR*SLTPRatio\n",
        "\n",
        "    print(dfstream.iloc[:-1,:])\n",
        "    print(TPBuy, \"  \", SLBuy, \"  \", TPSell, \"  \", SLSell)\n",
        "    signal = 2\n",
        "    #Sell\n",
        "    if signal == 1:\n",
        "        mo = MarketOrderRequest(instrument=\"EUR_USD\", units=-1000, takeProfitOnFill=TakeProfitDetails(price=TPSell).data, stopLossOnFill=StopLossDetails(price=SLSell).data)\n",
        "        r = orders.OrderCreate(accountID, data=mo.data)\n",
        "        rv = client.request(r)\n",
        "        print(rv)\n",
        "    #Buy\n",
        "    elif signal == 2:\n",
        "        mo = MarketOrderRequest(instrument=\"EUR_USD\", units=1000, takeProfitOnFill=TakeProfitDetails(price=TPBuy).data, stopLossOnFill=StopLossDetails(price=SLBuy).data)\n",
        "        r = orders.OrderCreate(accountID, data=mo.data)\n",
        "        rv = client.request(r)\n",
        "        print(rv)"
      ]
    },
    {
      "cell_type": "markdown",
      "metadata": {
        "id": "XMiDFnwZ2yJm"
      },
      "source": [
        "### 4 - Executing orders automatically with a scheduler"
      ]
    },
    {
      "cell_type": "code",
      "execution_count": null,
      "metadata": {
        "id": "Q_8rs_q_2yJm"
      },
      "outputs": [],
      "source": [
        "trading_job()\n",
        "\n",
        "#scheduler = BlockingScheduler()\n",
        "#scheduler.add_job(trading_job, 'cron', day_of_week='mon-fri', hour='00-23', minute='1,16,31,46', start_date='2022-01-12 12:00:00', timezone='America/Chicago')\n",
        "#scheduler.start()"
      ]
    },
    {
      "cell_type": "code",
      "execution_count": null,
      "metadata": {
        "id": "o1EVVLSa2yJm"
      },
      "outputs": [],
      "source": []
    }
  ],
  "metadata": {
    "kernelspec": {
      "display_name": "Python 3.10.8 64-bit",
      "language": "python",
      "name": "python3"
    },
    "language_info": {
      "codemirror_mode": {
        "name": "ipython",
        "version": 3
      },
      "file_extension": ".py",
      "mimetype": "text/x-python",
      "name": "python",
      "nbconvert_exporter": "python",
      "pygments_lexer": "ipython3",
      "version": "3.10.8"
    },
    "vscode": {
      "interpreter": {
        "hash": "c0ff92a541b5eb8a0f75470c34280cf0dea79e8b819847822bd36e33345fddf3"
      }
    },
    "colab": {
      "provenance": [],
      "include_colab_link": true
    }
  },
  "nbformat": 4,
  "nbformat_minor": 0
}